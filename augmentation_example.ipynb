{
  "nbformat": 4,
  "nbformat_minor": 0,
  "metadata": {
    "colab": {
      "name": "augmentation_example.ipynb",
      "provenance": [],
      "collapsed_sections": [],
      "mount_file_id": "1GTtYJyEMC2bfQMVJbsrJZiWUhjCFa_Ez",
      "authorship_tag": "ABX9TyOsNXLBUAUhOZOMoOHDc1zG",
      "include_colab_link": true
    },
    "kernelspec": {
      "name": "python3",
      "display_name": "Python 3"
    },
    "language_info": {
      "name": "python"
    }
  },
  "cells": [
    {
      "cell_type": "markdown",
      "metadata": {
        "id": "view-in-github",
        "colab_type": "text"
      },
      "source": [
        "<a href=\"https://colab.research.google.com/github/nqa112/AI-practice/blob/master/augmentation_example.ipynb\" target=\"_parent\"><img src=\"https://colab.research.google.com/assets/colab-badge.svg\" alt=\"Open In Colab\"/></a>"
      ]
    },
    {
      "cell_type": "code",
      "metadata": {
        "id": "ZZYeIcCKSuEp",
        "cellView": "form"
      },
      "source": [
        "#@title Keras : ImageDataGenerator\n",
        "\n",
        "import matplotlib.pyplot as plt\n",
        "import matplotlib.image as mpimg\n",
        "from keras.preprocessing.image import ImageDataGenerator, img_to_array, load_img \n",
        "import os\n",
        "\n",
        "path = r'/content/drive/MyDrive/Al_ThuThapAnh/annotated_input'\n",
        "save = r'/content/drive/MyDrive/Al_ThuThapAnh/save'\n",
        "#load the image\n",
        "for files in os.listdir(path) :\n",
        "    image = load_img(os.path.join(path, files))\n",
        "    #convert to numpy array\n",
        "    x = img_to_array(image)\n",
        "    #reshape image into 4 dimensions because input data is numpy array of rank 4 \n",
        "    x = x.reshape((1,) + x.shape)\n",
        "    #augmentation using ImageDataGenerator \n",
        "    datagen = ImageDataGenerator(rotation_range=30,\n",
        "                                width_shift_range=0.2,\n",
        "                                height_shift_range=0.2,\n",
        "                                shear_range=0.2,\n",
        "                                zoom_range=0.2,\n",
        "                                horizontal_flip=True,\n",
        "                                fill_mode='nearest',\n",
        "                                brightness_range=[0.3, 1.2])\n",
        "    iterator = datagen.flow(x, batch_size=1,\n",
        "    save_to_dir=save, save_prefix='augmented', save_format='jpeg')\n",
        "    # generate samples and plot\n",
        "    for i in range(9):\n",
        "      # define subplot\n",
        "      plt.subplot(3, 3, i + 1)\n",
        "      # generate batch of images\n",
        "      batch = iterator.next()\n",
        "      # convert to unsigned integers for viewing\n",
        "      image = batch[0].astype('uint8')\n",
        "      # plot raw pixel data\n",
        "      plt.imshow(image)\n",
        "    # show the figure\n",
        "    plt.show()\n",
        "\n",
        " \n"
      ],
      "execution_count": null,
      "outputs": []
    },
    {
      "cell_type": "code",
      "metadata": {
        "id": "rwxxAS86HQfs",
        "cellView": "form"
      },
      "source": [
        "#@title OpenCV : Histogram Equalization\n",
        "import os\n",
        "import cv2\n",
        "from google.colab.patches import cv2_imshow\n",
        "import numpy as np\n",
        "\n",
        "path = r'/content/drive/MyDrive/Al_ThuThapAnh/sample'\n",
        "for files in os.listdir(path) :\n",
        "    img = cv2.imread(os.path.join(path, files), 0)\n",
        "    eq = cv2.equalizeHist(img)\n",
        "    # stacking images side-by-side for comparison\n",
        "    res = np.hstack((img,eq)) \n",
        "    cv2_imshow(res)\n"
      ],
      "execution_count": null,
      "outputs": []
    },
    {
      "cell_type": "code",
      "metadata": {
        "id": "k1OaH-AtQcca",
        "cellView": "form"
      },
      "source": [
        "#@title OpenCV : Histogram Equalization RGB\n",
        "import os\n",
        "import cv2\n",
        "import numpy as np\n",
        "from google.colab.patches import cv2_imshow\n",
        "\n",
        "path = r'/content/drive/MyDrive/Al_ThuThapAnh/sample'\n",
        "for files in os.listdir(path) :\n",
        "    img = cv2.imread(os.path.join(path, files))\n",
        "    img_yuv = cv2.cvtColor(img, cv2.COLOR_BGR2YUV)\n",
        "    img_yuv[:,:,0] = cv2.equalizeHist(img_yuv[:,:,0])\n",
        "    # convert the YUV image back to RGB format\n",
        "    eq = cv2.cvtColor(img_yuv, cv2.COLOR_YUV2BGR)\n",
        "    # stacking images side-by-side for comparison\n",
        "    res = np.hstack((img,eq)) \n",
        "    cv2_imshow(res)\n",
        "\n",
        "\n",
        "\n",
        "\n"
      ],
      "execution_count": null,
      "outputs": []
    },
    {
      "cell_type": "code",
      "metadata": {
        "id": "AGC0_vjLMe_c",
        "cellView": "form"
      },
      "source": [
        "#@title OpenCV : Contrast Limited Adaptive Histogram Equalization\n",
        "import os\n",
        "import cv2\n",
        "from google.colab.patches import cv2_imshow\n",
        "import numpy as np\n",
        "\n",
        "path = r'/content/drive/MyDrive/Al_ThuThapAnh/sample'\n",
        "for files in os.listdir(path) :\n",
        "    img = cv2.imread(os.path.join(path, files),0)\n",
        "    # create a CLAHE object (Arguments are optional).\n",
        "    clahe = cv2.createCLAHE(clipLimit=2.0, tileGridSize=(8,8))\n",
        "    cl1 = clahe.apply(img)\n",
        "    # stacking images side-by-side for comparison\n",
        "    res = np.hstack((img,cl1)) \n",
        "    cv2_imshow(res)\n"
      ],
      "execution_count": null,
      "outputs": []
    }
  ]
}